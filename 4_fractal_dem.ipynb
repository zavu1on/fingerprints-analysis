{
 "cells": [
  {
   "cell_type": "code",
   "id": "2ffa8258-757f-4fd1-85a1-79134808c561",
   "metadata": {},
   "source": [
    "import os\n",
    "import cv2\n",
    "import pandas as pd\n",
    "import numpy as np\n",
    "import matplotlib.pyplot as plt\n",
    "import matplotlib.patches as patches"
   ],
   "outputs": [],
   "execution_count": null
  },
  {
   "cell_type": "code",
   "id": "9ea3d143-c431-44df-92e6-6071523d8b67",
   "metadata": {},
   "source": [
    "current_directory = \"assets/pack_1/\"\n",
    "contents = os.listdir(current_directory)"
   ],
   "outputs": [],
   "execution_count": null
  },
  {
   "cell_type": "code",
   "id": "ca79cf12-827a-462b-8742-09aa93bd3271",
   "metadata": {},
   "source": "df = pd.DataFrame([], columns=[\"image\", \"fractal_dimension\"])",
   "outputs": [],
   "execution_count": null
  },
  {
   "cell_type": "code",
   "id": "77726add-9e6f-4b69-b857-58200b102423",
   "metadata": {},
   "source": [
    "def fractal_dimension(Z, threshold=0.9):\n",
    "    def boxcount(Z, k):\n",
    "        S = np.add.reduceat(\n",
    "            np.add.reduceat(Z, np.arange(0, Z.shape[0], k), axis=0),\n",
    "            np.arange(0, Z.shape[1], k), axis=1)\n",
    "        return len(np.where((S > 0) & (S < k * k))[0])\n",
    "\n",
    "    Z = (Z < threshold)\n",
    "    p = min(Z.shape)\n",
    "    n = 2 ** np.floor(np.log(p) / np.log(2))\n",
    "    n = int(np.log(n) / np.log(2))\n",
    "    sizes = 2 ** np.arange(n, 1, -1)\n",
    "    counts = []\n",
    "    for size in sizes:\n",
    "        counts.append(boxcount(Z, size))\n",
    "    coeffs = np.polyfit(np.log(sizes), np.log(counts), 1)\n",
    "    return -coeffs[0]"
   ],
   "outputs": [],
   "execution_count": null
  },
  {
   "cell_type": "code",
   "id": "c2ef669e-bcbc-4737-bf60-31f684a91cf1",
   "metadata": {},
   "source": [
    "contents"
   ],
   "outputs": [],
   "execution_count": null
  },
  {
   "cell_type": "code",
   "id": "9e32efc9-13e6-4359-8af1-218d70f3fc20",
   "metadata": {},
   "source": [
    "for img in contents:\n",
    "    image = plt.imread(current_directory + img, 0)\n",
    "    image = np.array(image * 255, dtype=np.uint8)\n",
    "    image = cv2.GaussianBlur(image, (1, 1), 0)\n",
    "    image = cv2.adaptiveThreshold(image, 255, cv2.ADAPTIVE_THRESH_MEAN_C, cv2.THRESH_BINARY, 35, 21) / 255\n",
    "    fractal_d = fractal_dimension(image, threshold=0.25)\n",
    "    df.loc[len(df.index)] = [img, fractal_d]"
   ],
   "outputs": [],
   "execution_count": null
  },
  {
   "cell_type": "code",
   "id": "b42ba1ab-5e66-412e-93a6-44b3156f8832",
   "metadata": {},
   "source": [
    "df"
   ],
   "outputs": [],
   "execution_count": null
  },
  {
   "cell_type": "code",
   "id": "5cd8acc0-afd2-4f77-8735-90113736fa3e",
   "metadata": {},
   "source": [
    "if __name__ == \"__main__\":\n",
    "    Z = image\n",
    "\n",
    "    print(\"Фрактальная размерность: \", fractal_dimension(Z, threshold=0.9))\n",
    "\n",
    "    sizes = 75, 15, 5, 3\n",
    "    xmin, xmax = 0, Z.shape[1]\n",
    "    ymin, ymax = 0, Z.shape[0]\n",
    "    fig = plt.figure(figsize=(7, 5))\n",
    "\n",
    "    for i, size in enumerate(sizes):\n",
    "        ax = plt.subplot(1, len(sizes), i + 1, frameon=False)\n",
    "        ax.imshow(Z, plt.cm.pink, vmin=0, vmax=1,\n",
    "                  extent=[xmin, xmax, ymin, ymax], origin=\"upper\")\n",
    "        ax.set_xticks([])\n",
    "        ax.set_yticks([])\n",
    "        for y in range(Z.shape[0] // size + 1):\n",
    "            for x in range(Z.shape[1] // size + 1):\n",
    "                s = (Z[y * size:(y + 1) * size, x * size:(x + 1) * size] > 0.25).sum()\n",
    "                if s > 0 and s < size * size:\n",
    "                    rect = patches.Rectangle(\n",
    "                        (x * size, Z.shape[0] - 1 - (y + 1) * size),\n",
    "                        width=size, height=size,\n",
    "                        linewidth=.5, edgecolor=\"b\",\n",
    "                        facecolor=\"r\", alpha=.5)\n",
    "                    ax.add_patch(rect)\n",
    "\n",
    "    plt.tight_layout()\n",
    "    plt.show()"
   ],
   "outputs": [],
   "execution_count": null
  }
 ],
 "metadata": {
  "kernelspec": {
   "display_name": "Python 3 (ipykernel)",
   "language": "python",
   "name": "python3"
  },
  "language_info": {
   "codemirror_mode": {
    "name": "ipython",
    "version": 3
   },
   "file_extension": ".py",
   "mimetype": "text/x-python",
   "name": "python",
   "nbconvert_exporter": "python",
   "pygments_lexer": "ipython3",
   "version": "3.11.7"
  }
 },
 "nbformat": 4,
 "nbformat_minor": 5
}
